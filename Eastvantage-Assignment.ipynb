{
 "cells": [
  {
   "cell_type": "markdown",
   "id": "fae2933f",
   "metadata": {},
   "source": [
    "# SQL Query"
   ]
  },
  {
   "cell_type": "code",
   "execution_count": null,
   "id": "d0ee6e14",
   "metadata": {},
   "outputs": [],
   "source": [
    "import sqlite3\n",
    "\n",
    "# Connect to the SQLite3 database\n",
    "conn = sqlite3.connect(\"your_database.db\")\n",
    "cursor = conn.cursor()\n",
    "\n",
    "# Extract the total quantities of each item bought per customer aged 18-35 using SQL\n",
    "query = \"\"\"\n",
    "    SELECT c.Customer_id, c.age, i.item_name, SUM(CAST(o.quantity AS INT))\n",
    "    FROM Customers c\n",
    "    JOIN Sales s ON c.Customer_id = s.Customer_id\n",
    "    JOIN Orders o ON s.sales_id = o.sales_id\n",
    "    JOIN Items i ON o.item_id = i.item_id\n",
    "    WHERE c.age BETWEEN 18 AND 35 AND o.quantity IS NOT NULL\n",
    "    GROUP BY c.Customer_id, i.item_name\n",
    "    HAVING SUM(CAST(o.quantity AS INT)) > 0;\n",
    "\"\"\"\n",
    "\n",
    "cursor.execute(query)\n",
    "\n",
    "# Store the query results to a CSV file\n",
    "import csv\n",
    "\n",
    "with open(\"output.csv\", \"w\", newline=\"\") as csv_file:\n",
    "    csv_writer = csv.writer(csv_file, delimiter=\";\")\n",
    "    csv_writer.writerow([\"Customer\", \"Age\", \"Item\", \"Quantity\"])\n",
    "    for row in cursor.fetchall():\n",
    "        csv_writer.writerow(row)\n",
    "\n",
    "# Close the database connection\n",
    "conn.close()\n"
   ]
  },
  {
   "cell_type": "markdown",
   "id": "300e6c44",
   "metadata": {},
   "source": [
    "## Using pandas"
   ]
  },
  {
   "cell_type": "code",
   "execution_count": null,
   "id": "3bfe8124",
   "metadata": {},
   "outputs": [],
   "source": [
    "import sqlite3\n",
    "import pandas as pd\n",
    "\n",
    "# Connect to the SQLite3 database\n",
    "conn = sqlite3.connect(\"your_database.db\")\n",
    "\n",
    "# Extract the data using Pandas\n",
    "query = \"\"\"\n",
    "    SELECT c.Customer_id, c.age, i.item_name, CAST(o.quantity AS INT) AS Quantity\n",
    "    FROM Customers c\n",
    "    JOIN Sales s ON c.Customer_id = s.Customer_id\n",
    "    JOIN Orders o ON s.sales_id = o.sales_id\n",
    "    JOIN Items i ON o.item_id = i.item_id\n",
    "    WHERE c.age BETWEEN 18 AND 35 AND o.quantity IS NOT NULL\n",
    "\"\"\"\n",
    "\n",
    "df = pd.read_sql_query(query, conn)\n",
    "\n",
    "# Filter out rows with quantity=0\n",
    "df = df[df[\"Quantity\"] > 0]\n",
    "\n",
    "# Store the data to a CSV file\n",
    "df.to_csv(\"output.csv\", sep=\";\", index=False)\n",
    "\n",
    "# Close the database connection\n",
    "conn.close()"
   ]
  }
 ],
 "metadata": {
  "kernelspec": {
   "display_name": "Python 3 (ipykernel)",
   "language": "python",
   "name": "python3"
  },
  "language_info": {
   "codemirror_mode": {
    "name": "ipython",
    "version": 3
   },
   "file_extension": ".py",
   "mimetype": "text/x-python",
   "name": "python",
   "nbconvert_exporter": "python",
   "pygments_lexer": "ipython3",
   "version": "3.11.5"
  }
 },
 "nbformat": 4,
 "nbformat_minor": 5
}
